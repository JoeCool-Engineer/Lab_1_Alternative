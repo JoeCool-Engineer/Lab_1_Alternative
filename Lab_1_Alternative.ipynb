{
 "cells": [
  {
   "cell_type": "markdown",
   "metadata": {},
   "source": [
    "# Matrix Operations and Linear Systems\n",
    "## Progressive Lab: Matrix Operations, Linear Systems, and Independence \n",
    "### Overview \n",
    "This lab guides you through the fundamental concepts of matrix operations, building from basic computations to deeper understanding of linear systems and vector independence."
   ]
  },
  {
   "cell_type": "code",
   "execution_count": 1,
   "metadata": {},
   "outputs": [],
   "source": [
    "## Setup\n",
    "import numpy as np\n",
    "import matplotlib.pyplot as plt\n",
    "\n",
    "def setup_plot():\n",
    "    plt.figure(figsize=(10, 6))\n",
    "    plt.grid(True)\n",
    "    plt.axhline(y=0, color='k', linestyle=':')\n",
    "    plt.axvline(x=0, color='k', linestyle=':')\n",
    "    \n",
    "## Vector Operations\n",
    "def plot_vector(v, color='blue', label=None):\n",
    "    \"\"\"Plot a 2D vector from origin\"\"\"\n",
    "    plt.quiver(0, 0, v[0], v[1],\n",
    "              angles='xy', scale_units='xy', scale=1,\n",
    "              color=color, label=label)"
   ]
  },
  {
   "cell_type": "markdown",
   "metadata": {},
   "source": [
    "### Part 1: Matrix-Vector Multiplication \n",
    "A. Understanding Row vs Column Perspectives \n",
    "Consider the matrix A and vector x:\n",
    "$$ \n",
    "\\begin{equation} A =\n",
    "\\begin{bmatrix} \n",
    "1 & 2 & 3 \\\\ \n",
    "4 & 5 & 6 \\\\\n",
    "7 & 8 & 9\n",
    "\\end{bmatrix} \n",
    "\\end{equation}\n",
    "$$\n",
    "$$ \n",
    "\\begin{equation} x =\n",
    "\\begin{bmatrix} \n",
    "2 & -1 & 1 \n",
    "\\end{bmatrix} \n",
    "\\end{equation}\n",
    "$$"
   ]
  },
  {
   "cell_type": "markdown",
   "metadata": {},
   "source": [
    "##### 1. Theory: Explain in your own words: \n",
    "* How do we compute Ax by rows? \n",
    "    To compute the row matrix of Ax\n",
    "$$\\text 2(1) - 1(2) + 1(3) = b$$\n",
    "$$\\text 2(4) - 1(5) + 1(6) = b$$\n",
    "$$\\text 2(7) - 1(8) + 1(9) = b$$\n",
    "\n",
    "* How do we compute Ax by columns? \n",
    "    To compute the column matrix of Ax\n",
    "$$ \n",
    "\\begin{equation} 2\n",
    "\\begin{bmatrix} \n",
    "1 \\\\ \n",
    "4 \\\\\n",
    "7\n",
    "\\end{bmatrix} - 1\n",
    "\\begin{bmatrix} \n",
    "2 \\\\ \n",
    "5 \\\\\n",
    "8\n",
    "\\end{bmatrix} + 1\n",
    "\\begin{bmatrix} \n",
    "3 \\\\ \n",
    "6 \\\\\n",
    "9\n",
    "\\end{bmatrix} = b\n",
    "\\end{equation}\n",
    "$$\n",
    "\n",
    "* Why do both methods give the same result?\n",
    "\n",
    "##### 2. Implementation: Complete the code to compute Ax both ways:\n"
   ]
  },
  {
   "cell_type": "code",
   "execution_count": 38,
   "metadata": {},
   "outputs": [
    {
     "name": "stdout",
     "output_type": "stream",
     "text": [
      "The row matrix of Ax is:\n",
      "[[ 2  4  6]\n",
      " [-4 -5 -6]\n",
      " [ 7  8  9]]\n",
      "[[ 2]\n",
      " [-1]\n",
      " [ 1]]\n"
     ]
    }
   ],
   "source": [
    "def compute_by_rows(A, x):\n",
    "    \"\"\"Demonstrate row-wise multiplication\"\"\"\n",
    "    row_matrix = A * x\n",
    "    print(\"The row matrix of Ax is:\\n\" + str(row_matrix))\n",
    "\n",
    "A = np.array([[1, 2, 3],\n",
    "              [4, 5, 6],\n",
    "              [7, 8, 9]])\n",
    "x = np.array([[2], [-1], [1]])\n",
    "\n",
    "compute_by_rows(A, x)\n",
    "print(x)\n"
   ]
  },
  {
   "cell_type": "code",
   "execution_count": 39,
   "metadata": {},
   "outputs": [
    {
     "name": "stdout",
     "output_type": "stream",
     "text": [
      "The column matrix of Ax is:\n",
      "[ 3  9 15]\n"
     ]
    }
   ],
   "source": [
    "def multiply_matrices(A, x):\n",
    "    col_mat = x[0] * np.array([A[0][0], A[1][0], A[2][0]]) + x[1] * np.array([A[0][1], A[1][1], A[2][1]]) + x[2] * np.array([A[0][2], A[1][2], A[2][2]])\n",
    "    \n",
    "    print(\"The column matrix of Ax is:\\n\" + str(col_mat))\n",
    "    \n",
    "multiply_matrices(A, x)"
   ]
  },
  {
   "cell_type": "markdown",
   "metadata": {},
   "source": [
    "##### 3. Analysis:\n",
    "* Compare your results from both methods \n",
    "* Which method is more intuitive? Why? \n",
    "* Which method might be more efficient computationally?"
   ]
  },
  {
   "cell_type": "markdown",
   "metadata": {},
   "source": [
    "### Part 2: Linear Systems \n",
    "A. An Invertible Matrix \n",
    "Study the difference matrix from lecture:\n",
    "$$ \n",
    "\\begin{equation} A =\n",
    "\\begin{bmatrix} \n",
    "2 & -1 & 0 \\\\ \n",
    "-1 & 2 & -1 \\\\\n",
    "0 & -1 & 2\n",
    "\\end{bmatrix} \n",
    "\\end{equation}\n",
    "$$\n",
    "\n",
    "##### 1. Theory: For this matrix: \n",
    "* What does each row represent?\n",
    "    * System of linear equations: each row corresponds to one equation in the system.\n",
    "    * Vector Representation: each row can be considered a row vector, containing a set of elements that represent coordinates in a vector space.\n",
    "* Why is it called a “difference” matrix? \n",
    "    * It contains differences of the in put vector x.\n",
    "* What happens when we multiply it by a vector? \n",
    "    * We get a new vector. \n",
    "\n",
    "##### 2. Implementation: Investigate its properties:"
   ]
  },
  {
   "cell_type": "code",
   "execution_count": 36,
   "metadata": {},
   "outputs": [
    {
     "name": "stdout",
     "output_type": "stream",
     "text": [
      "The inverse of A is:\n",
      "[[0.75 0.5  0.25]\n",
      " [0.5  1.   0.5 ]\n",
      " [0.25 0.5  0.75]]\n"
     ]
    }
   ],
   "source": [
    "A = np.array([ [2,-1, 0], [-1, 2,-1], [0,-1, 2] ])\n",
    "print(\"The inverse of A is:\\n\" + str(np.linalg.inv(A)))"
   ]
  },
  {
   "cell_type": "markdown",
   "metadata": {},
   "source": [
    "##### B. Non-invertible Systems \n",
    "Now consider the matrix C from lecture:\n",
    "$$ \n",
    "\\begin{equation} C =\n",
    "\\begin{bmatrix} \n",
    "1 & -1 & 0 \\\\ \n",
    "-1 & 2 & -1 \\\\\n",
    "0 & -1 & 1\n",
    "\\end{bmatrix} \n",
    "\\end{equation}\n",
    "$$\n",
    "##### 1. Theory: \n",
    "* Why isn’t this matrix invertible? \n",
    "    * Because the Cx has infinite solutions to the value of x.\n",
    "* What does this mean geometrically? \n",
    "    * No linear combination of these three vectors and the columns of C are in the same plane. \n",
    "##### 2. Implementation:"
   ]
  },
  {
   "cell_type": "code",
   "execution_count": null,
   "metadata": {},
   "outputs": [],
   "source": [
    "def explore_noninvertible(C): \n",
    "    # TODO: Find a non-zero vector x where Cx = 0 \n",
    "    # TODO: Try to solve Cx = b for various b \n",
    "    # pass"
   ]
  },
  {
   "cell_type": "markdown",
   "metadata": {},
   "source": [
    "#### 3. Analysis:\n",
    "* What patterns do you notice in the solutions?\n",
    "* How does this connect to vector independence?"
   ]
  },
  {
   "cell_type": "markdown",
   "metadata": {},
   "source": [
    "## Part 3: Vector Independence \n",
    "### A. Testing Independence \n",
    "Using the columns of our matrices A and C:\n",
    "$$ \n",
    "\\begin{equation} A =\n",
    "\\begin{bmatrix} \n",
    "2 & -1 & 0 \\\\ \n",
    "-1 & 2 & -1 \\\\\n",
    "0 & -1 & 2\n",
    "\\end{bmatrix} \n",
    "\\end{equation}\n",
    "$$\n",
    "$$ \n",
    "\\begin{equation} C =\n",
    "\\begin{bmatrix} \n",
    "1 & -1 & 0 \\\\ \n",
    "-1 & 2 & -1 \\\\\n",
    "0 & -1 & 1\n",
    "\\end{bmatrix} \n",
    "\\end{equation}\n",
    "$$"
   ]
  },
  {
   "cell_type": "markdown",
   "metadata": {},
   "source": [
    "#### 1. Theory: \n",
    "* What makes vectors independent? \n",
    "* How can we test for independence?"
   ]
  }
 ],
 "metadata": {
  "kernelspec": {
   "display_name": "Python 3",
   "language": "python",
   "name": "python3"
  },
  "language_info": {
   "codemirror_mode": {
    "name": "ipython",
    "version": 3
   },
   "file_extension": ".py",
   "mimetype": "text/x-python",
   "name": "python",
   "nbconvert_exporter": "python",
   "pygments_lexer": "ipython3",
   "version": "3.12.4"
  }
 },
 "nbformat": 4,
 "nbformat_minor": 2
}
