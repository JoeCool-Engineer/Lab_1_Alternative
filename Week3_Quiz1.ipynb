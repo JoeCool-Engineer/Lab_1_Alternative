{
 "cells": [
  {
   "cell_type": "code",
   "execution_count": 1,
   "metadata": {},
   "outputs": [],
   "source": [
    "## Setup\n",
    "import numpy as np\n",
    "import matplotlib.pyplot as plt\n",
    "\n",
    "def setup_plot():\n",
    "    plt.figure(figsize=(10, 6))\n",
    "    plt.grid(True)\n",
    "    plt.axhline(y=0, color='k', linestyle=':')\n",
    "    plt.axvline(x=0, color='k', linestyle=':')\n",
    "    \n",
    "## Vector Operations\n",
    "def plot_vector(v, color='blue', label=None):\n",
    "    \"\"\"Plot a 2D vector from origin\"\"\"\n",
    "    plt.quiver(0, 0, v[0], v[1],\n",
    "              angles='xy', scale_units='xy', scale=1,\n",
    "              color=color, label=label)"
   ]
  },
  {
   "cell_type": "markdown",
   "metadata": {},
   "source": [
    "# Vector Spaces and Matrix Operations\n",
    "## Part 1: Vector Space Properties and Operations (5 points) \n",
    "1. (2 points) For vectors u = [1 2] and v = [−1 3 ], compute:\n",
    "\n",
    "&nbsp; &nbsp; &nbsp; &nbsp; &nbsp; a) 2u+v and explain each step\n"
   ]
  },
  {
   "cell_type": "code",
   "execution_count": 6,
   "metadata": {},
   "outputs": [
    {
     "name": "stdout",
     "output_type": "stream",
     "text": [
      "The computation of 2u+v is:\n",
      "[[1]\n",
      " [7]]\n"
     ]
    }
   ],
   "source": [
    "def compute_vectors(u, v):\n",
    "    \"\"\"Demonstrate row-wise multiplication\"\"\"\n",
    "    vector_comp = 2*u + v\n",
    "    print(\"The computation of 2u+v is:\\n\" + str(vector_comp))\n",
    "\n",
    "u = np.array([[1], [2]])\n",
    "v = np.array([[-1], [3]])\n",
    "\n",
    "compute_vectors(u, v)\n",
    "\n"
   ]
  },
  {
   "cell_type": "markdown",
   "metadata": {},
   "source": [
    "$$ \n",
    "\\begin{equation} First: 2\n",
    "\\begin{bmatrix} \n",
    "1 \\\\ \n",
    "2 \n",
    "\\end{bmatrix} +\n",
    "\\begin{bmatrix} \n",
    "-1 \\\\ \n",
    "3\n",
    "\\end{bmatrix} =\n",
    "\\begin{bmatrix} \n",
    "2 \\\\ \n",
    "4\n",
    "\\end{bmatrix} +\n",
    "\\begin{bmatrix} \n",
    "-1 \\\\ \n",
    "3\n",
    "\\end{bmatrix}\n",
    "\\end{equation}\n",
    "$$\n",
    "$$ \n",
    "\\begin{equation} Second:\n",
    "\\begin{bmatrix} \n",
    "2 \\\\ \n",
    "4\n",
    "\\end{bmatrix} +\n",
    "\\begin{bmatrix} \n",
    "-1 \\\\ \n",
    "3\n",
    "\\end{bmatrix} =\n",
    "\\begin{bmatrix} \n",
    "1 \\\\ \n",
    "7\n",
    "\\end{bmatrix}\n",
    "\\end{equation}\n",
    "$$"
   ]
  },
  {
   "cell_type": "markdown",
   "metadata": {},
   "source": [
    "## Part 2: Matrix Operations (5 points)\n",
    "1. (3 points) Given matrix\n",
    "$$ \n",
    "\\begin{equation} First: A = \n",
    "\\begin{bmatrix} \n",
    "1 & 2 \\\\\n",
    "3 & 4\n",
    "\\end{bmatrix}\n",
    "\\end{equation}\n",
    "$$\n",
    "$$ \n",
    "\\begin{equation} First: x = \n",
    "\\begin{bmatrix} \n",
    "1 \\\\\n",
    "-1\n",
    "\\end{bmatrix}\n",
    "\\end{equation}\n",
    "$$\n",
    "\n",
    "&nbsp; &nbsp; &nbsp; &nbsp; &nbsp; a) Compute 𝐴x using row method and show all steps\n",
    "* By rows: First row (1 * 1 + 2 * -1) Second Row (3 * 1 + 4 * -1)\n",
    "The vector for this would be:\n",
    "$$ \n",
    "\\begin{equation} \n",
    "\\begin{bmatrix} \n",
    "1*1 + 2*-1 \\\\\n",
    "3*1 + 4*-1\n",
    "\\end{bmatrix} =\n",
    "\\begin{bmatrix} \n",
    "-1 \\\\\n",
    "-1\n",
    "\\end{bmatrix} \n",
    "\\end{equation}\n",
    "$$\n",
    "&nbsp; &nbsp; &nbsp; &nbsp; &nbsp; b) Compute 𝐴x using column method and show all steps\n",
    "* The same multiplication viewed as column combinations:\n",
    "$$ \n",
    "\\begin{equation} Ax = 1\n",
    "\\begin{bmatrix} \n",
    "1 \\\\\n",
    "3\n",
    "\\end{bmatrix} - 1\n",
    "\\begin{bmatrix} \n",
    "2 \\\\\n",
    "4\n",
    "\\end{bmatrix} =\n",
    "\\begin{bmatrix} \n",
    "-1 \\\\\n",
    "-1\n",
    "\\end{bmatrix} \n",
    "\\end{equation}\n",
    "$$\n",
    "&nbsp; &nbsp; &nbsp; &nbsp; &nbsp; c) Explain why both methods give the same result, using the definition of matrix multiplication\n",
    "* They are both the same equations but written in a different manner. The column method seems to be easier to follow than the row method because it's in linear form."
   ]
  },
  {
   "cell_type": "code",
   "execution_count": 9,
   "metadata": {},
   "outputs": [
    {
     "name": "stdout",
     "output_type": "stream",
     "text": [
      "The matrix A * x is:\n",
      "[[-1]\n",
      " [-1]]\n"
     ]
    }
   ],
   "source": [
    "def matrix_operation(A, x):\n",
    "    \"\"\"Demonstrate row-wise multiplication\"\"\"\n",
    "    matrix_op = A @ x\n",
    "    print(\"The matrix A * x is:\\n\" + str(matrix_op))\n",
    "\n",
    "A = np.array([[1, 2], [3, 4]])\n",
    "x = np.array([[1], [-1]])\n",
    "\n",
    "matrix_operation(A, x)"
   ]
  },
  {
   "cell_type": "markdown",
   "metadata": {},
   "source": [
    "2. (2 points) For the same matrix 𝐴:\n",
    "\n",
    "&nbsp; &nbsp; &nbsp; &nbsp; &nbsp; a) Find the transpose of A\n",
    "* The transpose of A is found by flipping the matrix over the diagonal. In the case of A we have:\n",
    "$$\n",
    "\\begin{equation} A^{T} =\n",
    "\\begin{bmatrix} \n",
    "1 & 3 \\\\\n",
    "2 & 4\n",
    "\\end{bmatrix} \n",
    "\\end{equation}\n",
    "$$"
   ]
  },
  {
   "cell_type": "code",
   "execution_count": 10,
   "metadata": {},
   "outputs": [
    {
     "name": "stdout",
     "output_type": "stream",
     "text": [
      "[[1 3]\n",
      " [2 4]]\n"
     ]
    }
   ],
   "source": [
    "A_tran = np.transpose(A)\n",
    "print(A_tran)"
   ]
  },
  {
   "cell_type": "markdown",
   "metadata": {},
   "source": [
    "&nbsp; &nbsp; &nbsp; &nbsp; &nbsp; b) Verify that (A<sup>T</sup>)<sup>T</sup> = A\n",
    "* Since the transpose of A is found by flipping the matrix over the diagonal, completing another transpose of the square matrix provides the same A matrix.\n",
    "\\begin{equation} (A^{T})^{T} =\n",
    "\\begin{bmatrix} \n",
    "1 & 2 \\\\\n",
    "3 & 4\n",
    "\\end{bmatrix} \n",
    "\\end{equation}\n",
    "$$\n"
   ]
  },
  {
   "cell_type": "code",
   "execution_count": 11,
   "metadata": {},
   "outputs": [
    {
     "name": "stdout",
     "output_type": "stream",
     "text": [
      "[[1 2]\n",
      " [3 4]]\n"
     ]
    }
   ],
   "source": [
    "A_tran_tran = np.transpose(A_tran)\n",
    "print(A_tran_tran)"
   ]
  },
  {
   "cell_type": "markdown",
   "metadata": {},
   "source": [
    "## Part3: LinearIndependenceandBasis(5points)\n",
    "1. (3points)Determine if these vectors are linearly independent:\n",
    "$$\n",
    "\\begin{equation} v_{1} =\n",
    "\\begin{bmatrix}\n",
    "1 \\\\\n",
    "0 \\\\\n",
    "1\n",
    "\\end{bmatrix} , v_{2} =\n",
    "\\begin{bmatrix}\n",
    "0 \\\\\n",
    "1 \\\\\n",
    "1\n",
    "\\end{bmatrix} , v_{3} =\n",
    "\\begin{bmatrix} \n",
    "1 \\\\\n",
    "1 \\\\\n",
    "2\n",
    "\\end{bmatrix}\n",
    "\\end{equation}\n",
    "$$\n"
   ]
  }
 ],
 "metadata": {
  "kernelspec": {
   "display_name": "Python 3",
   "language": "python",
   "name": "python3"
  },
  "language_info": {
   "codemirror_mode": {
    "name": "ipython",
    "version": 3
   },
   "file_extension": ".py",
   "mimetype": "text/x-python",
   "name": "python",
   "nbconvert_exporter": "python",
   "pygments_lexer": "ipython3",
   "version": "3.12.4"
  }
 },
 "nbformat": 4,
 "nbformat_minor": 2
}
